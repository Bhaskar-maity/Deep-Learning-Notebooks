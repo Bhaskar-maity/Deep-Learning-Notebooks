{
  "nbformat": 4,
  "nbformat_minor": 0,
  "metadata": {
    "colab": {
      "name": "HandWritten Digit Classifier",
      "provenance": [],
      "collapsed_sections": []
    },
    "kernelspec": {
      "name": "python3",
      "display_name": "Python 3"
    },
    "language_info": {
      "name": "python"
    }
  },
  "cells": [
    {
      "cell_type": "code",
      "metadata": {
        "id": "TyL-RUG5wWkX"
      },
      "source": [
        "pip install tensorflow"
      ],
      "execution_count": null,
      "outputs": []
    },
    {
      "cell_type": "code",
      "metadata": {
        "id": "ekQvyeoXxYbE"
      },
      "source": [
        "pip install keras mnist numpy matplotlib"
      ],
      "execution_count": null,
      "outputs": []
    },
    {
      "cell_type": "markdown",
      "metadata": {
        "id": "YWvFLb3t9VDr"
      },
      "source": [
        "****Importing Required Libraries****"
      ]
    },
    {
      "cell_type": "code",
      "metadata": {
        "id": "SrJaJgoYloEF"
      },
      "source": [
        "import tensorflow as tf\n",
        "from tensorflow import keras\n",
        "import matplotlib.pyplot as plt\n",
        "%matplotlib inline\n",
        "import numpy as np\n",
        "import seaborn as sn"
      ],
      "execution_count": 52,
      "outputs": []
    },
    {
      "cell_type": "code",
      "metadata": {
        "id": "KpYBrCGUpz9t"
      },
      "source": [
        "# load data\n",
        "(xtrain, ytrain), (xtest, ytest) = tf.keras.datasets.mnist.load_data()"
      ],
      "execution_count": 17,
      "outputs": []
    },
    {
      "cell_type": "code",
      "metadata": {
        "id": "SYDDCtUaq-iI"
      },
      "source": [
        "xtrain"
      ],
      "execution_count": null,
      "outputs": []
    },
    {
      "cell_type": "code",
      "metadata": {
        "id": "ulsdq5HOuE4Q"
      },
      "source": [
        "xtrain[0]"
      ],
      "execution_count": null,
      "outputs": []
    },
    {
      "cell_type": "code",
      "metadata": {
        "colab": {
          "base_uri": "https://localhost:8080/"
        },
        "id": "K-s1oSoWsHck",
        "outputId": "4482c947-0ce6-43fb-9f8f-2636eeb061be"
      },
      "source": [
        "xtrain.shape"
      ],
      "execution_count": 20,
      "outputs": [
        {
          "output_type": "execute_result",
          "data": {
            "text/plain": [
              "(60000, 28, 28)"
            ]
          },
          "metadata": {
            "tags": []
          },
          "execution_count": 20
        }
      ]
    },
    {
      "cell_type": "code",
      "metadata": {
        "colab": {
          "base_uri": "https://localhost:8080/"
        },
        "id": "R-EjDfRuuPWu",
        "outputId": "33fca4cf-fa33-4c5c-de23-a9c91b6d5ab0"
      },
      "source": [
        "ytrain.shape"
      ],
      "execution_count": 21,
      "outputs": [
        {
          "output_type": "execute_result",
          "data": {
            "text/plain": [
              "(60000,)"
            ]
          },
          "metadata": {
            "tags": []
          },
          "execution_count": 21
        }
      ]
    },
    {
      "cell_type": "code",
      "metadata": {
        "colab": {
          "base_uri": "https://localhost:8080/"
        },
        "id": "1TxPf_OMvIih",
        "outputId": "19bc2d0d-92b0-4700-e81b-05e820f1e4e9"
      },
      "source": [
        "ytrain[1].shape"
      ],
      "execution_count": 22,
      "outputs": [
        {
          "output_type": "execute_result",
          "data": {
            "text/plain": [
              "()"
            ]
          },
          "metadata": {
            "tags": []
          },
          "execution_count": 22
        }
      ]
    },
    {
      "cell_type": "code",
      "metadata": {
        "colab": {
          "base_uri": "https://localhost:8080/"
        },
        "id": "Aua_AgLQsgjW",
        "outputId": "79cf63ac-8d29-4dc8-83c3-b49f974fdbaf"
      },
      "source": [
        "\n",
        "xtest.shape"
      ],
      "execution_count": 23,
      "outputs": [
        {
          "output_type": "execute_result",
          "data": {
            "text/plain": [
              "(10000, 28, 28)"
            ]
          },
          "metadata": {
            "tags": []
          },
          "execution_count": 23
        }
      ]
    },
    {
      "cell_type": "markdown",
      "metadata": {
        "id": "PgQW9mJgFhYQ"
      },
      "source": [
        "**Scalling Train & Test Data**"
      ]
    },
    {
      "cell_type": "code",
      "metadata": {
        "id": "UYTMqX3uC2F7"
      },
      "source": [
        "xtrain = xtrain/255\n",
        "xtest = xtest/255"
      ],
      "execution_count": 24,
      "outputs": []
    },
    {
      "cell_type": "markdown",
      "metadata": {
        "id": "pckh_mce-6Rz"
      },
      "source": [
        "**Digit Image Show**"
      ]
    },
    {
      "cell_type": "code",
      "metadata": {
        "colab": {
          "base_uri": "https://localhost:8080/",
          "height": 282
        },
        "id": "0fska8uGsMAL",
        "outputId": "d02c5c51-23fc-49ef-fbb3-ea3b58fd4f62"
      },
      "source": [
        "plt.imshow(xtrain[0])\n",
        "plt.show()\n",
        "\n",
        "print(ytrain[0])"
      ],
      "execution_count": 25,
      "outputs": [
        {
          "output_type": "display_data",
          "data": {
            "image/png": "[encoded data removed]",
            "text/plain": [
              "<Figure size 432x288 with 1 Axes>"
            ]
          },
          "metadata": {
            "tags": [],
            "needs_background": "light"
          }
        },
        {
          "output_type": "stream",
          "text": [
            "5\n"
          ],
          "name": "stdout"
        }
      ]
    },
    {
      "cell_type": "code",
      "metadata": {
        "colab": {
          "base_uri": "https://localhost:8080/"
        },
        "id": "PYOYBN0Xs7yT",
        "outputId": "325d78a0-0077-4603-dcac-c54199812ac9"
      },
      "source": [
        "# flatten the image, 28 * 28 = 784\n",
        "xtrain_flatten= xtrain.reshape(-1,784)\n",
        "\n",
        "xtest_flatten = xtest.reshape(-1,784)\n",
        "xtrain_flatten[1].shape"
      ],
      "execution_count": 26,
      "outputs": [
        {
          "output_type": "execute_result",
          "data": {
            "text/plain": [
              "(784,)"
            ]
          },
          "metadata": {
            "tags": []
          },
          "execution_count": 26
        }
      ]
    },
    {
      "cell_type": "code",
      "metadata": {
        "id": "UeOAlEigz2w0"
      },
      "source": [
        "xtrain[1]"
      ],
      "execution_count": null,
      "outputs": []
    },
    {
      "cell_type": "markdown",
      "metadata": {
        "id": "nOt-LGRIDWGm"
      },
      "source": [
        "**Build and Compile Model**"
      ]
    },
    {
      "cell_type": "code",
      "metadata": {
        "id": "DlJ8U-gq_gjm",
        "colab": {
          "base_uri": "https://localhost:8080/"
        },
        "outputId": "79cd1dad-82b5-49f4-c981-6cb46219a5df"
      },
      "source": [
        "# build model\n",
        "# sequential\n",
        "model = keras.Sequential([\n",
        "      # keras.layers.Dence(output layer shape-10, input layer shape-784, activation function                    \n",
        "      keras.layers.Dense(10, input_shape=(784,), activation='sigmoid')                    \n",
        "])\n",
        "\n",
        "model.compile(\n",
        "    optimizer='adam',\n",
        "    loss='sparse_categorical_crossentropy',\n",
        "    metrics=['accuracy']\n",
        ")\n",
        "\n",
        "model.fit(xtrain_flatten, ytrain, epochs=5)\n"
      ],
      "execution_count": 32,
      "outputs": [
        {
          "output_type": "stream",
          "text": [
            "Epoch 1/5\n",
            "1875/1875 [==============================] - 3s 1ms/step - loss: 0.4717 - accuracy: 0.8766\n",
            "Epoch 2/5\n",
            "1875/1875 [==============================] - 3s 1ms/step - loss: 0.3044 - accuracy: 0.9155\n",
            "Epoch 3/5\n",
            "1875/1875 [==============================] - 3s 1ms/step - loss: 0.2835 - accuracy: 0.9203\n",
            "Epoch 4/5\n",
            "1875/1875 [==============================] - 3s 1ms/step - loss: 0.2730 - accuracy: 0.9229\n",
            "Epoch 5/5\n",
            "1875/1875 [==============================] - 3s 1ms/step - loss: 0.2665 - accuracy: 0.9257\n"
          ],
          "name": "stdout"
        },
        {
          "output_type": "execute_result",
          "data": {
            "text/plain": [
              "<tensorflow.python.keras.callbacks.History at 0x7f276b83a610>"
            ]
          },
          "metadata": {
            "tags": []
          },
          "execution_count": 32
        }
      ]
    },
    {
      "cell_type": "markdown",
      "metadata": {
        "id": "e95nmPi2F7QL"
      },
      "source": [
        "**Model Evaluation**"
      ]
    },
    {
      "cell_type": "code",
      "metadata": {
        "colab": {
          "base_uri": "https://localhost:8080/"
        },
        "id": "y2iQKtgiFHCp",
        "outputId": "63a49b15-2d50-4abe-9918-39c2da371eb0"
      },
      "source": [
        "model.evaluate(xtest_flatten, ytest)"
      ],
      "execution_count": 33,
      "outputs": [
        {
          "output_type": "stream",
          "text": [
            "313/313 [==============================] - 0s 1ms/step - loss: 0.2660 - accuracy: 0.9257\n"
          ],
          "name": "stdout"
        },
        {
          "output_type": "execute_result",
          "data": {
            "text/plain": [
              "[0.2660009264945984, 0.9257000088691711]"
            ]
          },
          "metadata": {
            "tags": []
          },
          "execution_count": 33
        }
      ]
    },
    {
      "cell_type": "code",
      "metadata": {
        "colab": {
          "base_uri": "https://localhost:8080/",
          "height": 292
        },
        "id": "RxYnB329TqB4",
        "outputId": "f258caa1-57e7-4f35-c840-39f728be0a0f"
      },
      "source": [
        "plt.matshow(xtest[6])"
      ],
      "execution_count": 38,
      "outputs": [
        {
          "output_type": "execute_result",
          "data": {
            "text/plain": [
              "<matplotlib.image.AxesImage at 0x7f276852b410>"
            ]
          },
          "metadata": {
            "tags": []
          },
          "execution_count": 38
        },
        {
          "output_type": "display_data",
          "data": {
            "image/png": "[encoded data removed]",
            "text/plain": [
              "<Figure size 288x288 with 1 Axes>"
            ]
          },
          "metadata": {
            "tags": [],
            "needs_background": "light"
          }
        }
      ]
    },
    {
      "cell_type": "code",
      "metadata": {
        "colab": {
          "base_uri": "https://localhost:8080/"
        },
        "id": "pQgyN4JUF3Hk",
        "outputId": "ee61aaf7-ff98-4bdb-9f1b-699cc116ffba"
      },
      "source": [
        "ytest_predict = model.predict(xtest_flatten)\n",
        "ytest_predict[6]"
      ],
      "execution_count": 39,
      "outputs": [
        {
          "output_type": "execute_result",
          "data": {
            "text/plain": [
              "array([5.2875280e-04, 6.6644410e-05, 2.5165081e-04, 4.5178890e-02,\n",
              "       9.9760705e-01, 5.5516291e-01, 1.1685669e-02, 2.5960699e-01,\n",
              "       7.6651478e-01, 7.9700637e-01], dtype=float32)"
            ]
          },
          "metadata": {
            "tags": []
          },
          "execution_count": 39
        }
      ]
    },
    {
      "cell_type": "code",
      "metadata": {
        "colab": {
          "base_uri": "https://localhost:8080/"
        },
        "id": "Go6WlO38TPjZ",
        "outputId": "d66ff3f4-a8ad-4bdb-feb2-1415dd508ced"
      },
      "source": [
        "np.argmax(ytest_predict[6])"
      ],
      "execution_count": 40,
      "outputs": [
        {
          "output_type": "execute_result",
          "data": {
            "text/plain": [
              "4"
            ]
          },
          "metadata": {
            "tags": []
          },
          "execution_count": 40
        }
      ]
    },
    {
      "cell_type": "code",
      "metadata": {
        "colab": {
          "base_uri": "https://localhost:8080/"
        },
        "id": "7gVXru0kU6CY",
        "outputId": "6ee06cea-7353-4d82-dd3d-2780018b642d"
      },
      "source": [
        "ytest[:3]"
      ],
      "execution_count": 47,
      "outputs": [
        {
          "output_type": "execute_result",
          "data": {
            "text/plain": [
              "array([7, 2, 1], dtype=uint8)"
            ]
          },
          "metadata": {
            "tags": []
          },
          "execution_count": 47
        }
      ]
    },
    {
      "cell_type": "code",
      "metadata": {
        "colab": {
          "base_uri": "https://localhost:8080/"
        },
        "id": "7G9By2BcU0jA",
        "outputId": "f91f3556-f523-44c2-bb16-713dba0cee57"
      },
      "source": [
        "ytest_predict[0]"
      ],
      "execution_count": 43,
      "outputs": [
        {
          "output_type": "execute_result",
          "data": {
            "text/plain": [
              "array([1.1898905e-02, 3.0014675e-07, 4.3460399e-02, 9.3866587e-01,\n",
              "       2.0176470e-03, 8.1848413e-02, 6.9855059e-07, 9.9973142e-01,\n",
              "       6.3872546e-02, 5.2501637e-01], dtype=float32)"
            ]
          },
          "metadata": {
            "tags": []
          },
          "execution_count": 43
        }
      ]
    },
    {
      "cell_type": "code",
      "metadata": {
        "colab": {
          "base_uri": "https://localhost:8080/"
        },
        "id": "maRDeoQmVh5d",
        "outputId": "a6ec1bc6-7984-4c35-9215-b914e2ad62ff"
      },
      "source": [
        "# max value index for each value of ytest_predict\n",
        "ytest_predict_lables = [np.argmax(i) for i in ytest_predict]\n",
        "ytest_predict_lables[:3]"
      ],
      "execution_count": 48,
      "outputs": [
        {
          "output_type": "execute_result",
          "data": {
            "text/plain": [
              "[7, 2, 1]"
            ]
          },
          "metadata": {
            "tags": []
          },
          "execution_count": 48
        }
      ]
    },
    {
      "cell_type": "markdown",
      "metadata": {
        "id": "5DhULCDoUAzu"
      },
      "source": [
        "**Confusion Matrix**"
      ]
    },
    {
      "cell_type": "code",
      "metadata": {
        "colab": {
          "base_uri": "https://localhost:8080/"
        },
        "id": "TWMDvqW4T5r2",
        "outputId": "7163cf58-cd6b-4fa1-e0cc-8affc8debc0d"
      },
      "source": [
        "\n",
        "confiusion_matrix = tf.math.confusion_matrix(labels=ytest,predictions=ytest_predict_lables)\n",
        "confiusion_matrix"
      ],
      "execution_count": 50,
      "outputs": [
        {
          "output_type": "execute_result",
          "data": {
            "text/plain": [
              "<tf.Tensor: shape=(10, 10), dtype=int32, numpy=\n",
              "array([[ 962,    0,    2,    2,    0,    6,    5,    2,    1,    0],\n",
              "       [   0, 1119,    2,    2,    0,    1,    4,    2,    5,    0],\n",
              "       [   6,    9,  933,   16,   10,    2,   11,    9,   32,    4],\n",
              "       [   4,    0,   24,  916,    0,   30,    2,   10,   16,    8],\n",
              "       [   1,    2,    5,    1,  926,    0,    8,    2,    9,   28],\n",
              "       [  10,    4,    5,   29,   10,  778,   11,    9,   29,    7],\n",
              "       [  13,    3,    8,    1,    7,   15,  907,    2,    2,    0],\n",
              "       [   1,    8,   27,    5,    9,    0,    0,  945,    2,   31],\n",
              "       [   6,   10,    8,   21,    9,   28,    9,   14,  862,    7],\n",
              "       [  10,    7,    1,    9,   36,    7,    0,   25,    5,  909]],\n",
              "      dtype=int32)>"
            ]
          },
          "metadata": {
            "tags": []
          },
          "execution_count": 50
        }
      ]
    },
    {
      "cell_type": "markdown",
      "metadata": {
        "id": "ujiL1GfcXH9u"
      },
      "source": [
        "**Confusion Matrix using Seaborn**"
      ]
    },
    {
      "cell_type": "code",
      "metadata": {
        "colab": {
          "base_uri": "https://localhost:8080/",
          "height": 459
        },
        "id": "UoQyGO_wURbd",
        "outputId": "fa1c5e77-1d17-4226-f842-18bd3d69e89f"
      },
      "source": [
        "\n",
        "plt.figure(figsize = (10,7))\n",
        "sn.heatmap(confiusion_matrix, annot=True, fmt='d')\n",
        "plt.xlabel('Predicted')\n",
        "plt.ylabel('Truth')"
      ],
      "execution_count": 53,
      "outputs": [
        {
          "output_type": "execute_result",
          "data": {
            "text/plain": [
              "Text(69.0, 0.5, 'Truth')"
            ]
          },
          "metadata": {
            "tags": []
          },
          "execution_count": 53
        },
        {
          "output_type": "display_data",
          "data": {
            "image/png": "[encoded data removed]",
            "text/plain": [
              "<Figure size 720x504 with 2 Axes>"
            ]
          },
          "metadata": {
            "tags": [],
            "needs_background": "light"
          }
        }
      ]
    },
    {
      "cell_type": "markdown",
      "metadata": {
        "id": "GLbZ4NelXRaF"
      },
      "source": [
        "# Using 1 Hidden Layer in Neural Network"
      ]
    },
    {
      "cell_type": "code",
      "metadata": {
        "colab": {
          "base_uri": "https://localhost:8080/"
        },
        "id": "twotwzE_Wycn",
        "outputId": "382f80b7-7f85-450a-8e7a-351f209f7e00"
      },
      "source": [
        "# build model\n",
        "# sequential\n",
        "model = keras.Sequential([\n",
        "      # 1 hidden layer shape 100 node, activation = rectified linear unit (y = max(0, x))\n",
        "      keras.layers.Dense(100, input_shape=(784,), activation='relu'),\n",
        "      # output layer shape-10, input layer shape-autometic, activation function                    \n",
        "      keras.layers.Dense(10, activation='sigmoid')                    \n",
        "])\n",
        "\n",
        "model.compile(\n",
        "    optimizer='adam',\n",
        "    loss='sparse_categorical_crossentropy',\n",
        "    metrics=['accuracy']\n",
        ")\n",
        "\n",
        "model.fit(xtrain_flatten, ytrain, epochs=5)"
      ],
      "execution_count": 55,
      "outputs": [
        {
          "output_type": "stream",
          "text": [
            "Epoch 1/5\n",
            "1875/1875 [==============================] - 5s 2ms/step - loss: 0.2778 - accuracy: 0.9226\n",
            "Epoch 2/5\n",
            "1875/1875 [==============================] - 4s 2ms/step - loss: 0.1269 - accuracy: 0.9632\n",
            "Epoch 3/5\n",
            "1875/1875 [==============================] - 4s 2ms/step - loss: 0.0891 - accuracy: 0.9733\n",
            "Epoch 4/5\n",
            "1875/1875 [==============================] - 4s 2ms/step - loss: 0.0675 - accuracy: 0.9797\n",
            "Epoch 5/5\n",
            "1875/1875 [==============================] - 4s 2ms/step - loss: 0.0534 - accuracy: 0.9837\n"
          ],
          "name": "stdout"
        },
        {
          "output_type": "execute_result",
          "data": {
            "text/plain": [
              "<tensorflow.python.keras.callbacks.History at 0x7f27595abf10>"
            ]
          },
          "metadata": {
            "tags": []
          },
          "execution_count": 55
        }
      ]
    },
    {
      "cell_type": "markdown",
      "metadata": {
        "id": "ovd0p0OSZett"
      },
      "source": [
        "**Evaluation of model**\n",
        "- Accuracy improved from 92% to 97% using 1 hidden layer"
      ]
    },
    {
      "cell_type": "code",
      "metadata": {
        "colab": {
          "base_uri": "https://localhost:8080/"
        },
        "id": "7ICYEekTYHsw",
        "outputId": "48168347-aa5c-4112-ccc5-12b514e571ec"
      },
      "source": [
        "model.evaluate(xtest_flatten, ytest)"
      ],
      "execution_count": 56,
      "outputs": [
        {
          "output_type": "stream",
          "text": [
            "313/313 [==============================] - 0s 1ms/step - loss: 0.0803 - accuracy: 0.9757\n"
          ],
          "name": "stdout"
        },
        {
          "output_type": "execute_result",
          "data": {
            "text/plain": [
              "[0.08031907677650452, 0.9757000207901001]"
            ]
          },
          "metadata": {
            "tags": []
          },
          "execution_count": 56
        }
      ]
    },
    {
      "cell_type": "code",
      "metadata": {
        "id": "4O03r4UMYc3N"
      },
      "source": [
        "ytest_predict = model.predict(xtest_flatten)\n",
        "ytest_predict_lables = [np.argmax(i) for i in ytest_predict]"
      ],
      "execution_count": 57,
      "outputs": []
    },
    {
      "cell_type": "code",
      "metadata": {
        "colab": {
          "base_uri": "https://localhost:8080/",
          "height": 459
        },
        "id": "Gzoy1prhY5rr",
        "outputId": "bb380125-85f4-4972-d177-c8b8deb48837"
      },
      "source": [
        "confiusion_matrix = tf.math.confusion_matrix(labels=ytest,predictions=ytest_predict_lables)\n",
        "plt.figure(figsize = (10,7))\n",
        "sn.heatmap(confiusion_matrix, annot=True, fmt='d')\n",
        "plt.xlabel('Predicted')\n",
        "plt.ylabel('Truth')"
      ],
      "execution_count": 58,
      "outputs": [
        {
          "output_type": "execute_result",
          "data": {
            "text/plain": [
              "Text(69.0, 0.5, 'Truth')"
            ]
          },
          "metadata": {
            "tags": []
          },
          "execution_count": 58
        },
        {
          "output_type": "display_data",
          "data": {
            "image/png": "[encoded data removed]",
            "text/plain": [
              "<Figure size 720x504 with 2 Axes>"
            ]
          },
          "metadata": {
            "tags": [],
            "needs_background": "light"
          }
        }
      ]
    },
    {
      "cell_type": "code",
      "metadata": {
        "id": "I3fp8Y6vY7-E"
      },
      "source": [
        ""
      ],
      "execution_count": null,
      "outputs": []
    }
  ]
}